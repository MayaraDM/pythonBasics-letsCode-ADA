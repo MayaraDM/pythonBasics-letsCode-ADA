{
 "cells": [
  {
   "cell_type": "markdown",
   "metadata": {},
   "source": [
    "# Aula 01 - Listas e Tuplas\n",
    "\n",
    "- Listas - coleção ou sequência ordenada de valores\n",
    "\n",
    "    - indexação de base 0\n",
    "    - função - len()\n",
    "    - slicing (fatiamento) = nomes_paises[1:3]\n",
    "    - 'step' -> de quantos em quantos itens o programa vai retornar\n",
    "    - in/not - procurar um valor dentro da lista\n"
   ]
  },
  {
   "cell_type": "code",
   "execution_count": 15,
   "metadata": {},
   "outputs": [
    {
     "name": "stdout",
     "output_type": "stream",
     "text": [
      "Tamanho da lista: 5\n",
      "País: Japão\n",
      "['Brasil', 'Argentina', 'China', 'Canadá', 'Colômbia']\n",
      "['Argentina', 'China']\n",
      "['Brasil', 'China', 'Colômbia']\n",
      "['Colômbia', 'Canadá', 'China', 'Argentina', 'Brasil']\n",
      "True\n",
      "False\n"
     ]
    }
   ],
   "source": [
    "nomes_paises = ['Brasil', 'Argentina', 'China', 'Canadá', 'Japão']\n",
    "\n",
    "print('Tamanho da lista:', len(nomes_paises))\n",
    "\n",
    "print('País:', nomes_paises[-1])\n",
    "\n",
    "# Trocar um item específico da lista:\n",
    "nomes_paises[4] = 'Colômbia'\n",
    "print(nomes_paises)\n",
    "\n",
    "print(nomes_paises[1:3])\n",
    "\n",
    "# Step\n",
    "print(nomes_paises[::2])\n",
    "\n",
    "print(nomes_paises[::-1])\n",
    "\n",
    "# in/not\n",
    "print('Brasil' in nomes_paises)\n",
    "\n",
    "print('Canadá' not in nomes_paises)"
   ]
  },
  {
   "cell_type": "markdown",
   "metadata": {},
   "source": [
    "Métodos:\n",
    "\n",
    "- append() - adicionar um valor a lista\n",
    "- insert() - adiciona um valor numa posição específica da lista\n",
    "- remove() - deletar um valor da lista\n",
    "- pop() - deleta um valor da lista a partir da sua posição"
   ]
  },
  {
   "cell_type": "code",
   "execution_count": 20,
   "metadata": {},
   "outputs": [
    {
     "name": "stdout",
     "output_type": "stream",
     "text": [
      "['Brasília', 'Buenos Aires', 'Pequim', 'Bogotá']\n",
      "['Brasília', 'Buenos Aires', 'Paris', 'Pequim', 'Bogotá']\n",
      "['Brasília', 'Paris', 'Pequim', 'Bogotá']\n",
      "['Brasília', 'Paris', 'Bogotá'] Pequim\n"
     ]
    }
   ],
   "source": [
    "lista_capitais = []\n",
    "\n",
    "lista_capitais.append('Brasília')\n",
    "lista_capitais.append('Buenos Aires')\n",
    "lista_capitais.append('Pequim')\n",
    "lista_capitais.append('Bogotá')\n",
    "\n",
    "print(lista_capitais)\n",
    "\n",
    "lista_capitais.insert(2, 'Paris')\n",
    "print(lista_capitais)\n",
    "\n",
    "lista_capitais.remove('Buenos Aires')\n",
    "print(lista_capitais)\n",
    "\n",
    "removido = lista_capitais.pop(2)\n",
    "print(lista_capitais, removido)"
   ]
  },
  {
   "cell_type": "markdown",
   "metadata": {},
   "source": [
    "- Tuplas - sequência ou coleção de valores ordenados\n",
    "    - indexação de base 0\n",
    "    - menor em armazenamento pela rigidez\n",
    "    - len()\n",
    "    - slicing/fatiamento\n",
    "    - unpacking\n",
    "\n",
    "** Principal diferença entre listas e tuplas é a flexibilidade do que se pode fazer com cada uma. Numa tupla não se pode alterar os valores uma vez colocados dentro dela."
   ]
  },
  {
   "cell_type": "code",
   "execution_count": 28,
   "metadata": {},
   "outputs": [
    {
     "name": "stdout",
     "output_type": "stream",
     "text": [
      "('Brasil', 'Argentina', 'China', 'Canadá', 'Japão') <class 'tuple'>\n",
      "('São Paulo',) <class 'tuple'>\n",
      "Brasil China Japão\n",
      "Brasil Argentina China Canadá Japão\n"
     ]
    }
   ],
   "source": [
    "nomes_paises = 'Brasil', 'Argentina', 'China', 'Canadá', 'Japão'\n",
    "print(nomes_paises, type(nomes_paises))\n",
    "\n",
    "nome_estado = 'São Paulo',\n",
    "print(nome_estado, type(nome_estado))\n",
    "\n",
    "len(nomes_paises)\n",
    "nomes_paises[0]\n",
    "\n",
    "# unpacking\n",
    "b, a, c, ca, j = nomes_paises\n",
    "print(b, c, j)\n",
    "print(*nomes_paises)"
   ]
  },
  {
   "cell_type": "markdown",
   "metadata": {},
   "source": [
    "# Aula 02 - Strings I\n",
    "\n",
    "- podem ser usados \"\" ou '' pra caracterizar strings\n",
    "- quando usa-se ' (apóstrofo) é necessário usar \"\""
   ]
  },
  {
   "cell_type": "code",
   "execution_count": 2,
   "metadata": {},
   "outputs": [
    {
     "name": "stdout",
     "output_type": "stream",
     "text": [
      "Google\n",
      "Google\n",
      "Let's Code\n"
     ]
    }
   ],
   "source": [
    "empresa = 'Google'\n",
    "print(empresa)\n",
    "empresa = \"Google\"\n",
    "print(empresa)\n",
    "\n",
    "empresa = \"Let's Code\"\n",
    "print(empresa)"
   ]
  },
  {
   "cell_type": "markdown",
   "metadata": {},
   "source": [
    "- artifício do caracter de escape - contrabarra\n",
    "- pode ser utilizado para inserção de quebra de linha, tabulação ou um retorno dentro do texto."
   ]
  },
  {
   "cell_type": "code",
   "execution_count": 3,
   "metadata": {},
   "outputs": [
    {
     "name": "stdout",
     "output_type": "stream",
     "text": [
      "O professor Petro da Let's Code disse: \"Hoje a pizza é por minha conta\"\n"
     ]
    }
   ],
   "source": [
    "frase = \"O professor Petro da Let's Code disse: \\\"Hoje a pizza é por minha conta\\\"\"\n",
    "print(frase)"
   ]
  },
  {
   "cell_type": "markdown",
   "metadata": {},
   "source": [
    "- caracteres funcionam como cada item de valor de uma tupla, por exemplo\n",
    "- slicing"
   ]
  },
  {
   "cell_type": "code",
   "execution_count": 5,
   "metadata": {},
   "outputs": [
    {
     "name": "stdout",
     "output_type": "stream",
     "text": [
      "G\n",
      "Goo\n"
     ]
    }
   ],
   "source": [
    "empresa = 'Google'\n",
    "print(empresa[0])\n",
    "\n",
    "print(empresa[:3])"
   ]
  },
  {
   "cell_type": "markdown",
   "metadata": {},
   "source": [
    "Métodos em strings:\n",
    "\n",
    "- split() - quebra a string em uma lista\n",
    "\n",
    "--> não precisa necessariamente passar um caracter - usa o espaço como quebra padrão\n",
    "\n",
    "- strip() - exclui espaços 'extras' no final e começo da string"
   ]
  },
  {
   "cell_type": "code",
   "execution_count": 10,
   "metadata": {},
   "outputs": [
    {
     "name": "stdout",
     "output_type": "stream",
     "text": [
      "['São Paulo', 'Belo Horizonte', 'Rio de Janeiro', 'Brasília']\n",
      "MENU PRINCIPAL\n"
     ]
    }
   ],
   "source": [
    "nomes_cidades = \"São Paulo, Belo Horizonte, Rio de Janeiro, Brasília\"\n",
    "\n",
    "nomes_cidades = nomes_cidades.split(', ')\n",
    "print(nomes_cidades)\n",
    "\n",
    "cabecalho = \"         MENU PRINCIPAL           \"\n",
    "print(cabecalho.strip())"
   ]
  },
  {
   "cell_type": "markdown",
   "metadata": {},
   "source": [
    "- .title(), .capitalize(), .lower(), .upper()"
   ]
  },
  {
   "cell_type": "code",
   "execution_count": 11,
   "metadata": {},
   "outputs": [
    {
     "name": "stdout",
     "output_type": "stream",
     "text": [
      "Rio De Janeiro\n",
      "Rio de janeiro\n",
      "rio de janeiro\n",
      "RIO DE JANEIRO\n"
     ]
    }
   ],
   "source": [
    "nome_cidade = 'rIo DE janeIrO'\n",
    "\n",
    "print(nome_cidade.title())\n",
    "print(nome_cidade.capitalize())\n",
    "print(nome_cidade.lower())\n",
    "print(nome_cidade.upper())"
   ]
  },
  {
   "cell_type": "code",
   "execution_count": 13,
   "metadata": {},
   "outputs": [
    {
     "name": "stdout",
     "output_type": "stream",
     "text": [
      "Tenta de novo, vai\n",
      "Tenta de novo, vai\n",
      "Booa, campeão!\n"
     ]
    }
   ],
   "source": [
    "# Exemplo\n",
    "nome_cidade = input(\"Que cidade do Brasil é conhecida como cidade maravilhosa?\")\n",
    "nome_cidade = nome_cidade.strip()\n",
    "while nome_cidade.lower() != 'rio de janeiro':\n",
    "    print(\"Tenta de novo, vai\")\n",
    "    nome_cidade = input(\"Que cidade do Brasil é conhecida como cidade maravilhosa?\")\n",
    "\n",
    "print('Booa, campeão!')"
   ]
  },
  {
   "cell_type": "markdown",
   "metadata": {},
   "source": [
    "Operador 'in' em strings"
   ]
  },
  {
   "cell_type": "code",
   "execution_count": 14,
   "metadata": {},
   "outputs": [
    {
     "name": "stdout",
     "output_type": "stream",
     "text": [
      "True\n"
     ]
    }
   ],
   "source": [
    "mensagem = \"Você viu o que o Pietro disse na sala ontem?\"\n",
    "fui_citado = \"Pietro\" in mensagem\n",
    "print(fui_citado)"
   ]
  },
  {
   "cell_type": "markdown",
   "metadata": {},
   "source": [
    "# Aula 03 - Strings II\n",
    "\n",
    "Operadores em strings\n",
    "- adição\n",
    "- multiplicação"
   ]
  },
  {
   "cell_type": "code",
   "execution_count": 19,
   "metadata": {},
   "outputs": [
    {
     "name": "stdout",
     "output_type": "stream",
     "text": [
      "Olá, Mayara\n",
      "MayaraMayaraMayaraMayaraMayara\n",
      "Felipe tem 35 anos e 2 filhos\n"
     ]
    }
   ],
   "source": [
    "cumprimento = 'Olá, '\n",
    "nome = 'Mayara'\n",
    "print(cumprimento + nome)\n",
    "\n",
    "print(nome * 5)"
   ]
  },
  {
   "cell_type": "markdown",
   "metadata": {},
   "source": [
    "--> Em casos de concatenação de strings e números, o python apresenta um erro. Pra evitar erro, precisa primeiro transformar o número em string usando a função str()\n",
    "\n",
    "- para facilitar esse processo existe o método .format()"
   ]
  },
  {
   "cell_type": "code",
   "execution_count": 22,
   "metadata": {},
   "outputs": [
    {
     "name": "stdout",
     "output_type": "stream",
     "text": [
      "Felipe tem 35 anos e 2 filhos\n",
      "Felipe tem 35 anos e 2 filhos\n"
     ]
    }
   ],
   "source": [
    "nome = 'Felipe'\n",
    "idade = 35\n",
    "filhos = 2\n",
    "\n",
    "print(nome + ' tem ' + str(idade) + ' anos e ' + str(filhos) + ' filhos')\n",
    "\n",
    "# .format()\n",
    "print('{} tem {} anos e {} filhos'.format(nome, idade, filhos))"
   ]
  },
  {
   "cell_type": "code",
   "execution_count": 23,
   "metadata": {},
   "outputs": [
    {
     "name": "stdout",
     "output_type": "stream",
     "text": [
      "O preço da gasolina hoje subiu e está em R$3.48\n"
     ]
    }
   ],
   "source": [
    "preco_gasolina = 3.476\n",
    "print('O preço da gasolina hoje subiu e está em R${:.2f}'.format(preco_gasolina))"
   ]
  },
  {
   "cell_type": "markdown",
   "metadata": {},
   "source": [
    "- Atalho do método .format()"
   ]
  },
  {
   "cell_type": "code",
   "execution_count": 24,
   "metadata": {},
   "outputs": [
    {
     "name": "stdout",
     "output_type": "stream",
     "text": [
      "Felipe tem 35 anos e 2 filhos.\n"
     ]
    }
   ],
   "source": [
    "print(f'{nome} tem {idade} anos e {filhos} filhos.')"
   ]
  },
  {
   "cell_type": "markdown",
   "metadata": {},
   "source": [
    "# Aula 04 - Dicionários\n",
    "\n",
    "--> Coleção associativa desordenada\n",
    "- pareamento - chaves e valores\n",
    "- usa-se {}"
   ]
  },
  {
   "cell_type": "code",
   "execution_count": 27,
   "metadata": {},
   "outputs": [
    {
     "name": "stdout",
     "output_type": "stream",
     "text": [
      "<class 'dict'>\n",
      "{'nome': 'São Paulo', 'estado': 'São Paulo', 'area_km2': 1521, 'populacao_milhoes': 12.18}\n"
     ]
    }
   ],
   "source": [
    "dados_cidades = {\n",
    "    'nome': 'São Paulo',\n",
    "    'estado': 'São Paulo',\n",
    "    'area_km2': 1521,\n",
    "    'populacao_milhoes': 12.18,\n",
    "}\n",
    "print(type(dados_cidades))\n",
    "print(dados_cidades)"
   ]
  },
  {
   "cell_type": "markdown",
   "metadata": {},
   "source": [
    "- estrutura mais flexível visto até agora"
   ]
  },
  {
   "cell_type": "code",
   "execution_count": 31,
   "metadata": {},
   "outputs": [
    {
     "name": "stdout",
     "output_type": "stream",
     "text": [
      "{'nome': 'São Paulo', 'estado': 'São Paulo', 'area_km2': 1521, 'populacao_milhoes': 12.18, 'país': 'Brasil'}\n",
      "São Paulo\n",
      "{'nome': 'São Paulo', 'estado': 'São Paulo', 'area_km2': 1500, 'populacao_milhoes': 12.18, 'país': 'Brasil'}\n"
     ]
    }
   ],
   "source": [
    "dados_cidades['país'] = 'Brasil'\n",
    "\n",
    "print(dados_cidades)\n",
    "\n",
    "print(dados_cidades['nome'])\n",
    "\n",
    "dados_cidades['area_km2'] = 1500\n",
    "print(dados_cidades)"
   ]
  },
  {
   "cell_type": "markdown",
   "metadata": {},
   "source": [
    "- método .copy() para copiar e alterar o dicionário, sem alterar o original"
   ]
  },
  {
   "cell_type": "code",
   "execution_count": 33,
   "metadata": {},
   "outputs": [
    {
     "name": "stdout",
     "output_type": "stream",
     "text": [
      "{'nome': 'Santos', 'estado': 'São Paulo', 'area_km2': 1500, 'populacao_milhoes': 12.18, 'país': 'Brasil'}\n",
      "{'nome': 'Santos', 'estado': 'São Paulo', 'area_km2': 1500, 'populacao_milhoes': 12.18, 'país': 'Brasil'}\n",
      "{'nome': 'Santos', 'estado': 'São Paulo', 'area_km2': 1500, 'populacao_milhoes': 12.18, 'país': 'Brasil'}\n",
      "{'nome': 'Santos', 'estado': 'Rio de Janeiro', 'area_km2': 1500, 'populacao_milhoes': 12.18, 'país': 'Brasil'}\n"
     ]
    }
   ],
   "source": [
    "dados_cidades2 = dados_cidades\n",
    "\n",
    "dados_cidades2['nome'] = 'Santos'\n",
    "print(dados_cidades2)\n",
    "print(dados_cidades)\n",
    "\n",
    "dados_cidades3 = dados_cidades.copy()\n",
    "dados_cidades3['estado'] = 'Rio de Janeiro'\n",
    "print(dados_cidades)\n",
    "print(dados_cidades3)"
   ]
  },
  {
   "cell_type": "markdown",
   "metadata": {},
   "source": [
    "- .update() - concatenação, atualização ou combinação de dois dicionários"
   ]
  },
  {
   "cell_type": "code",
   "execution_count": 34,
   "metadata": {},
   "outputs": [
    {
     "name": "stdout",
     "output_type": "stream",
     "text": [
      "{'nome': 'Santos', 'estado': 'São Paulo', 'area_km2': 1500, 'populacao_milhoes': 15, 'país': 'Brasil', 'fundacao': '25/01/1554'}\n"
     ]
    }
   ],
   "source": [
    "novos_dados = {\n",
    "    'populacao_milhoes': 15,\n",
    "    'fundacao': '25/01/1554'\n",
    "}\n",
    "\n",
    "dados_cidades.update(novos_dados)\n",
    "print(dados_cidades)"
   ]
  },
  {
   "cell_type": "markdown",
   "metadata": {},
   "source": [
    "- método .get() - acesso de uma chave\n",
    "\n",
    "- métodos que transformam um dicionário em lista\n",
    "    - .keys() - retorna uma lista de chaves de um dicionário\n",
    "    - .values() - retorna uma lista de valores de um dicionário\n",
    "    - .items() - retorna uma lista de tuplas (chave,valor) de um dicionário"
   ]
  },
  {
   "cell_type": "code",
   "execution_count": 37,
   "metadata": {},
   "outputs": [
    {
     "name": "stdout",
     "output_type": "stream",
     "text": [
      "None\n",
      "-----\n",
      "dict_keys(['nome', 'estado', 'area_km2', 'populacao_milhoes', 'país', 'fundacao'])\n",
      "-----\n",
      "dict_values(['Santos', 'São Paulo', 1500, 15, 'Brasil', '25/01/1554'])\n",
      "-----\n",
      "dict_items([('nome', 'Santos'), ('estado', 'São Paulo'), ('area_km2', 1500), ('populacao_milhoes', 15), ('país', 'Brasil'), ('fundacao', '25/01/1554')])\n"
     ]
    }
   ],
   "source": [
    "print(dados_cidades.get('prefeito'))\n",
    "print('-----')\n",
    "print(dados_cidades.keys())\n",
    "print('-----')\n",
    "print(dados_cidades.values())\n",
    "print('-----')\n",
    "print(dados_cidades.items())"
   ]
  },
  {
   "cell_type": "markdown",
   "metadata": {},
   "source": [
    "# Aula 05 - Estruturas de Repetição - For\n",
    "\n",
    "- laço de repetição especializado em iterar (navegar) sobre objetos (passível de navegação - listas, tuplas, dicionários)\n",
    "\n",
    "--> while é mais flexível/livre for mais engessado"
   ]
  },
  {
   "cell_type": "code",
   "execution_count": 38,
   "metadata": {},
   "outputs": [
    {
     "name": "stdout",
     "output_type": "stream",
     "text": [
      "São Paulo\n",
      "Londres\n",
      "Tóquio\n",
      "Paris\n"
     ]
    }
   ],
   "source": [
    "nomes_cidades = ['São Paulo', 'Londres', 'Tóquio', 'Paris']\n",
    "\n",
    "for nome in nomes_cidades:\n",
    "    print(nome)"
   ]
  },
  {
   "cell_type": "code",
   "execution_count": 39,
   "metadata": {},
   "outputs": [
    {
     "name": "stdout",
     "output_type": "stream",
     "text": [
      "São Paulo\n",
      "Londres\n",
      "Tóquio\n",
      "Paris\n"
     ]
    }
   ],
   "source": [
    "# mesmo código acima usando while\n",
    "contador = 0\n",
    "nomes_cidades = ['São Paulo', 'Londres', 'Tóquio', 'Paris']\n",
    "while contador < len(nomes_cidades):\n",
    "    print(nomes_cidades[contador])\n",
    "    contador = contador + 1"
   ]
  },
  {
   "cell_type": "markdown",
   "metadata": {},
   "source": [
    "- for para tuplas"
   ]
  },
  {
   "cell_type": "code",
   "execution_count": 40,
   "metadata": {},
   "outputs": [
    {
     "name": "stdout",
     "output_type": "stream",
     "text": [
      "São Paulo\n",
      "Londres\n",
      "Tóquio\n",
      "Paris\n"
     ]
    }
   ],
   "source": [
    "nomes_cidades = 'São Paulo', 'Londres', 'Tóquio', 'Paris'\n",
    "\n",
    "for nome in nomes_cidades:\n",
    "    print(nome)"
   ]
  },
  {
   "cell_type": "markdown",
   "metadata": {},
   "source": [
    "- for em dicionários"
   ]
  },
  {
   "cell_type": "code",
   "execution_count": 41,
   "metadata": {},
   "outputs": [
    {
     "name": "stdout",
     "output_type": "stream",
     "text": [
      "nome: São Paulo\n",
      "estado: São Paulo\n",
      "populacao_milhoes: 12.2\n"
     ]
    }
   ],
   "source": [
    "cidade = {\n",
    "    'nome': 'São Paulo',\n",
    "    'estado': 'São Paulo',\n",
    "    'populacao_milhoes': 12.2\n",
    "}\n",
    "\n",
    "for chave in cidade:\n",
    "    print(f'{chave}: {cidade[chave]}')"
   ]
  },
  {
   "cell_type": "code",
   "execution_count": 43,
   "metadata": {},
   "outputs": [
    {
     "name": "stdout",
     "output_type": "stream",
     "text": [
      "['São Paulo', 'Londres', 'Tóquio', 'Paris']\n"
     ]
    }
   ],
   "source": [
    "nomes_cidades = ['São Paulo', 'Londres', 'Tóquio', 'Paris']\n",
    "\n",
    "for nome in nomes_cidades:\n",
    "    nome = 'Rio de Janeiro' # mexendo apenas na 'cópia' dentro do escopo e não alterando os valores originais\n",
    "print(nomes_cidades)"
   ]
  },
  {
   "cell_type": "markdown",
   "metadata": {},
   "source": [
    "- função range() -> cria um objeto como uma lista, que contem elementos de 0 até um limitante definido -1, "
   ]
  },
  {
   "cell_type": "code",
   "execution_count": 45,
   "metadata": {},
   "outputs": [
    {
     "name": "stdout",
     "output_type": "stream",
     "text": [
      "['Rio de Janeiro', 'Rio de Janeiro', 'Rio de Janeiro', 'Rio de Janeiro']\n"
     ]
    }
   ],
   "source": [
    "for posicao in range(len(nomes_cidades)):\n",
    "    nomes_cidades[posicao] = 'Rio de Janeiro'\n",
    "print(nomes_cidades)"
   ]
  },
  {
   "cell_type": "markdown",
   "metadata": {},
   "source": [
    "Outras maneiras de utilização da função range():\n",
    "1. especificar apenas um número final que cria uma lista de 0 até o número informado (-1)\n",
    "2. especificar um número inicial e final\n",
    "3. especificar um valor inicial, final e um incremento a cada iteração"
   ]
  },
  {
   "cell_type": "code",
   "execution_count": 47,
   "metadata": {},
   "outputs": [
    {
     "name": "stdout",
     "output_type": "stream",
     "text": [
      "[0, 1, 2, 3, 4, 5, 6, 7, 8, 9]\n",
      "[2, 3, 4, 5, 6, 7, 8, 9]\n",
      "[2, 4, 6, 8]\n"
     ]
    }
   ],
   "source": [
    "print(list(range(10)))\n",
    "print(list(range(2, 10)))\n",
    "print(list(range(2, 10, 2)))"
   ]
  },
  {
   "cell_type": "markdown",
   "metadata": {},
   "source": [
    "# Aula 06 - Funções I\n",
    "\n",
    "Funções - sequência de passos/comandos nomeada"
   ]
  },
  {
   "cell_type": "code",
   "execution_count": 49,
   "metadata": {},
   "outputs": [
    {
     "name": "stdout",
     "output_type": "stream",
     "text": [
      "Olá, mundo!\n"
     ]
    }
   ],
   "source": [
    "def hello():\n",
    "    print('Olá, mundo!')\n",
    "\n",
    "hello()"
   ]
  },
  {
   "cell_type": "code",
   "execution_count": 52,
   "metadata": {},
   "outputs": [
    {
     "name": "stdout",
     "output_type": "stream",
     "text": [
      "9.0\n",
      "9.333333333333334\n"
     ]
    }
   ],
   "source": [
    "def calcula_media(valor1, valor2, valor3):\n",
    "    soma = valor1 + valor2 + valor3\n",
    "    media = soma / 3\n",
    "    return media\n",
    "\n",
    "resultado = calcula_media(9, 10, 8)\n",
    "print(resultado)\n",
    "\n",
    "resultado2 = calcula_media(valor1=9, valor2=10, valor3=9)\n",
    "print(resultado2)"
   ]
  },
  {
   "cell_type": "markdown",
   "metadata": {},
   "source": [
    "- parâmetros - podem ser definidos ou já serem default na função\n",
    "    - exemplo: parâmetro end na função print() - faz uma quebra de linha entre cada chamada da função"
   ]
  },
  {
   "cell_type": "code",
   "execution_count": 54,
   "metadata": {},
   "outputs": [
    {
     "name": "stdout",
     "output_type": "stream",
     "text": [
      "Olá , Pietro\n"
     ]
    }
   ],
   "source": [
    "print('Olá', end=' ') #define o end com um valor diferente do default - quebra da linha\n",
    "print(', Pietro')"
   ]
  },
  {
   "cell_type": "code",
   "execution_count": 56,
   "metadata": {},
   "outputs": [
    {
     "name": "stdout",
     "output_type": "stream",
     "text": [
      "0.0\n"
     ]
    }
   ],
   "source": [
    "def calcula_media(valor1=0, valor2=0, valor3=0): # definido valor default pra cada parâmetro\n",
    "    soma = valor1 + valor2 + valor3\n",
    "    media = soma / 3\n",
    "    return media\n",
    "\n",
    "resultado = calcula_media()\n",
    "print(resultado)"
   ]
  },
  {
   "cell_type": "markdown",
   "metadata": {},
   "source": [
    "# Aula 07 - Funções II\n",
    "\n",
    "- args - não é obrigatório usar o args, mas uma convenção. Poderia usar qualquer outro nome de variável\n",
    "- se adicionado um outro parâmetro, nesse caso precisa especificar na chamada da função. Caso contrário, o programa entenderá que ainda se trata de um valor do parâmetro args.\n",
    "    - exemplo: calcula_media(*args, margem)\n",
    "    - print(calcula_media(10, 8, 9, margem=0.3))"
   ]
  },
  {
   "cell_type": "code",
   "execution_count": 58,
   "metadata": {},
   "outputs": [
    {
     "name": "stdout",
     "output_type": "stream",
     "text": [
      "9.0\n"
     ]
    }
   ],
   "source": [
    "from statistics import median\n",
    "\n",
    "\n",
    "def calcula_media(*args):\n",
    "    soma = sum(args)\n",
    "    media = soma / len(args)\n",
    "    return media\n",
    "\n",
    "print(calcula_media(10,8,9))"
   ]
  },
  {
   "cell_type": "markdown",
   "metadata": {},
   "source": [
    "- keywords arguments - muito utilizada em ciência de dados e visualização de gráficos\n",
    "    - parâmetros comuns a diferentes funções para diferentes gráficos, performando da mesma maneira"
   ]
  },
  {
   "cell_type": "code",
   "execution_count": 59,
   "metadata": {},
   "outputs": [
    {
     "name": "stdout",
     "output_type": "stream",
     "text": [
      "{'nome': 'Pietro', 'sobrenome': 'Ribeiro'} <class 'dict'>\n"
     ]
    }
   ],
   "source": [
    "def print_info(**kwargs): #kwargs - convenção\n",
    "    print(kwargs, type(kwargs))\n",
    "\n",
    "print_info(nome='Pietro', sobrenome='Ribeiro')"
   ]
  }
 ],
 "metadata": {
  "kernelspec": {
   "display_name": "Python 3.10.7 64-bit",
   "language": "python",
   "name": "python3"
  },
  "language_info": {
   "codemirror_mode": {
    "name": "ipython",
    "version": 3
   },
   "file_extension": ".py",
   "mimetype": "text/x-python",
   "name": "python",
   "nbconvert_exporter": "python",
   "pygments_lexer": "ipython3",
   "version": "3.10.7"
  },
  "orig_nbformat": 4,
  "vscode": {
   "interpreter": {
    "hash": "f74913a52227c539edf3889f892f189c7a6a2ca39977e0509f17f7a36c2bbf24"
   }
  }
 },
 "nbformat": 4,
 "nbformat_minor": 2
}
