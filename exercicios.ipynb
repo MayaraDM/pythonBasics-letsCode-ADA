{
 "cells": [
  {
   "cell_type": "markdown",
   "metadata": {},
   "source": [
    "# Exercícios Curso Basics\n",
    "\n",
    "Módulo 1\n",
    "\n",
    "1. Faça um programa que peça um valor monetário e diminua-o em 15%. Seu programa deve imprimir a mensagem \"O novo valor é [valor]\"."
   ]
  },
  {
   "cell_type": "code",
   "execution_count": 5,
   "metadata": {},
   "outputs": [
    {
     "name": "stdout",
     "output_type": "stream",
     "text": [
      "O novo valor é  425.0\n"
     ]
    }
   ],
   "source": [
    "valor_monetario = input(\"Digite um valor: \")\n",
    "valor_monetario = float(valor_monetario)\n",
    "novo_valor = valor_monetario - valor_monetario * 0.15\n",
    "print('O novo valor é ', novo_valor)"
   ]
  },
  {
   "cell_type": "markdown",
   "metadata": {},
   "source": [
    "2. Faça um programa que leia a validade das informações:\n",
    "\n",
    "a. Idade: entre 0 e 150;\n",
    "b. Salário: maior que 0;\n",
    "c. Sexo: M, F ou Outro;\n",
    "\n",
    "O programa deve imprimir uma mensagem de erro para cada informação inválida"
   ]
  },
  {
   "cell_type": "code",
   "execution_count": 34,
   "metadata": {},
   "outputs": [
    {
     "name": "stdout",
     "output_type": "stream",
     "text": [
      "Idade OK\n",
      "Salário OK\n",
      "Sexo inválido\n"
     ]
    }
   ],
   "source": [
    "idade = input('Qual sua idade?')\n",
    "if int(idade) < 0 and int(idade) > 150:\n",
    "    print('Informação inválida')\n",
    "else:\n",
    "    print('Idade OK')\n",
    "\n",
    "salario = input('Qual seu salário?')\n",
    "if float(salario) <= 0:\n",
    "    print('Salário inválido')\n",
    "else:\n",
    "    print('Salário OK')\n",
    "\n",
    "sexo = input('Qual seu gênero?')\n",
    "if sexo != 'M' or sexo != 'F' or sexo != 'Outro':\n",
    "    print('Sexo inválido') \n",
    "else:\n",
    "    print('Sexo OK')"
   ]
  },
  {
   "cell_type": "markdown",
   "metadata": {},
   "source": [
    "3. Vamos fazer um programa para verificar quem é o assassino de um crime. Para descobrir o assassino, a polícia faz um pequeno questionário com 5 perguntas onde a resposta só de ser sim ou não:\n",
    "\n",
    "- a. Mora perto da vítima?\n",
    "- b. Já trabalhou com a vítima?\n",
    "- c. Telefonou para a vítima?\n",
    "- d. Esteve no local do crime?\n",
    "- e. Devia para a vítima?\n",
    "\n",
    "Cada resposta sim, da um ponto para o suspeito. A polícia considera que os suspeitos com 5 pontos são os assassinos, com 4 a 3 pontos são cúmplices e 2 pontos são apenas suspeitos, necessitando outras investigações. Valores iguais ou abaixo de 1 são liberados."
   ]
  },
  {
   "cell_type": "code",
   "execution_count": 35,
   "metadata": {},
   "outputs": [
    {
     "name": "stdout",
     "output_type": "stream",
     "text": [
      "O suspeito respondeu 5 das 5 perguntas como Sim\n",
      "O suspeito é o provável assassino\n"
     ]
    }
   ],
   "source": [
    "mora = input('Mora perto da vítima?')\n",
    "trabalha = input('Já trabalhou coma vítima?')\n",
    "telefona = input('Telefonou para a vítima?')\n",
    "local = input('Esteve no local do crime?')\n",
    "divida = input('Devia para a vítima?')\n",
    "\n",
    "suspeito = 0\n",
    "if mora == 'Sim':\n",
    "    suspeito = suspeito + 1\n",
    "if trabalha == 'Sim':\n",
    "    suspeito = suspeito + 1\n",
    "if telefona == 'Sim':\n",
    "    suspeito = suspeito + 1\n",
    "if local == 'Sim':\n",
    "    suspeito = suspeito + 1\n",
    "if divida == 'Sim':\n",
    "    suspeito = suspeito + 1\n",
    "\n",
    "print(f'O suspeito respondeu {suspeito} das 5 perguntas como Sim')\n",
    "if suspeito == 5:\n",
    "    print('O suspeito é o provável assassino')\n",
    "elif suspeito >= 3:\n",
    "    print('O suspeito é um provável cúmplice')\n",
    "elif suspeito == 2:\n",
    "    print('A relação do crime com o suspeito não está clara. Necessita-se de mais investigações')\n",
    "else:\n",
    "    print('Suspeito sem provável relação com o crime. Liberado da investigação')\n"
   ]
  },
  {
   "cell_type": "markdown",
   "metadata": {},
   "source": [
    "4. Faça um programa que imprima a tabuada do 9 de 9 * 1 a 9 * 10) usando loops."
   ]
  },
  {
   "cell_type": "code",
   "execution_count": 37,
   "metadata": {},
   "outputs": [
    {
     "name": "stdout",
     "output_type": "stream",
     "text": [
      "9 * 1 = 9\n",
      "9 * 2 = 18\n",
      "9 * 3 = 27\n",
      "9 * 4 = 36\n",
      "9 * 5 = 45\n",
      "9 * 6 = 54\n",
      "9 * 7 = 63\n",
      "9 * 8 = 72\n",
      "9 * 9 = 81\n",
      "9 * 10 = 90\n"
     ]
    }
   ],
   "source": [
    "numero = 9\n",
    "tabuada = 0\n",
    "\n",
    "while tabuada < 10:\n",
    "    tabuada = tabuada + 1\n",
    "    produto = numero * tabuada\n",
    "    print(f'9 * {tabuada} = {produto}')"
   ]
  },
  {
   "cell_type": "markdown",
   "metadata": {},
   "source": [
    "Módulo 2\n",
    "\n",
    "1. Faça um programa que olhe todos os itens de uma lista e diga quantos deles são pares."
   ]
  },
  {
   "cell_type": "code",
   "execution_count": 30,
   "metadata": {},
   "outputs": [
    {
     "name": "stdout",
     "output_type": "stream",
     "text": [
      "A lista possui 5 número(s) par(es)\n"
     ]
    }
   ],
   "source": [
    "list = [1, 2, 3, 4, 5, 6, 7, 8, 9, 10]\n",
    "contador = 0\n",
    "for number in list:\n",
    "    if number % 2 == 0:\n",
    "        contador = contador + 1\n",
    "print(f'A lista possui {contador} número(s) par(es)')\n",
    "\n"
   ]
  },
  {
   "cell_type": "markdown",
   "metadata": {},
   "source": [
    "2. Faça um programa que peça para o usuário digitar uma palavra e imprima cada letra em uma linha."
   ]
  },
  {
   "cell_type": "code",
   "execution_count": 27,
   "metadata": {},
   "outputs": [
    {
     "name": "stdout",
     "output_type": "stream",
     "text": [
      "p\n",
      "a\n",
      "l\n",
      "a\n",
      "v\n",
      "r\n",
      "a\n"
     ]
    }
   ],
   "source": [
    "palavra = input('Escreva uma palavra')\n",
    "palavra = palavra.strip()\n",
    "\n",
    "\n",
    "for index in range(len(palavra)):\n",
    "    print(palavra[index])\n",
    "\n",
    "# contador = 0\n",
    "# while contador < len(palavra):\n",
    "#    print(palavra[contador])\n",
    "#    contador = contador + 1"
   ]
  },
  {
   "cell_type": "markdown",
   "metadata": {},
   "source": [
    "3. Faça uma função que recebe duas listas e retorna a soma item a item dessas listas.\n",
    "Exemplo: Se a função receber as listas [1,4,3] e [3,5,1], então a função deve retornar [1 + 3, 4 + 5, 3 + 1] = [4, 9, 4]."
   ]
  },
  {
   "cell_type": "code",
   "execution_count": 31,
   "metadata": {},
   "outputs": [
    {
     "name": "stdout",
     "output_type": "stream",
     "text": [
      "[4, 9, 4]\n"
     ]
    }
   ],
   "source": [
    "lista1 = [1, 4, 3]\n",
    "lista2 = [3, 5, 1]\n",
    "\n",
    "def somaListas(a, b):\n",
    "    c = []\n",
    "    for x in range(len(a)):\n",
    "        c.append(a[x] + b[x])\n",
    "    return c\n",
    "\n",
    "print(somaListas(lista1, lista2))"
   ]
  },
  {
   "cell_type": "markdown",
   "metadata": {},
   "source": [
    "4. Crie um dicionário cujas chaves são os meses do ano e os valores são a duração (em dias) de cada mês."
   ]
  },
  {
   "cell_type": "code",
   "execution_count": 2,
   "metadata": {},
   "outputs": [
    {
     "name": "stdout",
     "output_type": "stream",
     "text": [
      "{'Janeiro': 31, 'Fevereiro': 28, 'Março': 31, 'Abril': 30, 'Maio': 31, 'Junho': 30, 'Julho': 31, 'Agosto': 31, 'Setembro': 30, 'Outubro': 31, 'Novembro': 30, 'Dezembro': 31} <class 'dict'>\n"
     ]
    }
   ],
   "source": [
    "ano = {\n",
    "    'Janeiro': 31,\n",
    "    'Fevereiro': 28,\n",
    "    'Março': 31,\n",
    "    'Abril': 30,\n",
    "    'Maio': 31,\n",
    "    'Junho': 30,\n",
    "    'Julho': 31,\n",
    "    'Agosto': 31,\n",
    "    'Setembro': 30,\n",
    "    'Outubro': 31,\n",
    "    'Novembro': 30,\n",
    "    'Dezembro': 31\n",
    "}\n",
    "print(ano, type(ano))"
   ]
  },
  {
   "cell_type": "markdown",
   "metadata": {},
   "source": [
    "5. Imprima as chaves seguidas dos seus valores para dicionário criado no exercício anterior.\n",
    "Exemplo:\n",
    "Janeiro - 31\n",
    "Fevereiro - 28\n",
    "Março - 31\n",
    "etc."
   ]
  },
  {
   "cell_type": "code",
   "execution_count": 11,
   "metadata": {},
   "outputs": [
    {
     "name": "stdout",
     "output_type": "stream",
     "text": [
      "Janeiro - 31\n",
      "Fevereiro - 28\n",
      "Março - 31\n",
      "Abril - 30\n",
      "Maio - 31\n",
      "Junho - 30\n",
      "Julho - 31\n",
      "Agosto - 31\n",
      "Setembro - 30\n",
      "Outubro - 31\n",
      "Novembro - 30\n",
      "Dezembro - 31\n"
     ]
    }
   ],
   "source": [
    "for mes in ano:\n",
    "    print(f'{mes} - {ano[mes]}')"
   ]
  },
  {
   "cell_type": "markdown",
   "metadata": {},
   "source": [
    "Módulo 3\n",
    "\n",
    "Para os exercícios 1 ao 3, você precisará do arquivo: alunos.csv\n",
    "\n",
    "1. Neste exercício você deve criar um programa que abra o arquivo \"alunos.csv\" e imprima o conteúdo do arquivo linha a linha\n",
    "\n",
    "Note que esse é o primeiro exercício de uma sequência, então o seu código pode ser reaproveitado nos exercícios seguintes. Digo isso, a recomendação é usar a biblioteca CSV para ler o arquivo mesmo que não seja realmente necessário para esse primeiro item."
   ]
  },
  {
   "cell_type": "code",
   "execution_count": null,
   "metadata": {},
   "outputs": [],
   "source": []
  },
  {
   "cell_type": "markdown",
   "metadata": {},
   "source": [
    "2. Para o segundo exercício, você deve criar um programa que realiza uma cópia do arquivo \"alunos.csv\". Essa cópia deve ser um arquivo chamado \"alunos_copia.csv\".\n",
    "\n",
    "Novamente aqui você também não precisa utilizar a biblioteca CSV mas se usar, seu código pode ser reutilizado na próxima questão sem muitas modificações."
   ]
  },
  {
   "cell_type": "code",
   "execution_count": null,
   "metadata": {},
   "outputs": [],
   "source": []
  },
  {
   "cell_type": "markdown",
   "metadata": {},
   "source": [
    "3. Finalmente chegamos ao último exercício dessa sequência relacionada à manipulação de arquivos.\n",
    "\n",
    "Neste exercício você deve criar um novo arquivo chamado \"alunos_media.csv\". Esse novo arquivo é uma cópia de \"alunos.csv\" porém com uma coluna a mais chamada \"Média\" que vai abrigar os valores das médias das provas de cada aluno da lista.\n",
    "\n",
    "Se você utilizou a biblioteca CSV para realizar os dois primeiros exercícios, muito será reaproveitado aqui. A biblioteca CSV permite a interpretação de cada linha como listas, que são fáceis de manipular."
   ]
  },
  {
   "cell_type": "code",
   "execution_count": null,
   "metadata": {},
   "outputs": [],
   "source": []
  },
  {
   "cell_type": "markdown",
   "metadata": {},
   "source": [
    "4. Você conhece Star Wars? Se trata, obviamente, da famosa saga espacial criada por George Lucas em 1977 e que deu origem a símbolos do cinema e da cultura pop com o imponente vilão Darth Vader ou o simpático robô R2-D2. A ideia desse exercício é justamente extrair informações do personagem Darth Vader através de uma API de Star Wars chamada SWAPI.\n",
    "\n",
    "Utilize a URL \"http://swapi.dev/api/people/4/\" para fazer a requisição dos dados de Darth Vader e extraia as informações \"name\" (nome), \"height\" (altura), \"mass\" (massa) e \"birth_year\" (ano de nascimento) e imprima cada dado em uma linha.\n",
    "\n",
    "Dica: caso não se lembre de como fazer isso, assista novamente a aula sobre API porque o exemplo da aula pode te ajudar."
   ]
  },
  {
   "cell_type": "code",
   "execution_count": null,
   "metadata": {},
   "outputs": [],
   "source": []
  },
  {
   "cell_type": "markdown",
   "metadata": {},
   "source": [
    "5. Em 2019 surgiram os primeiros casos de COVID-19 que se alastrou pelo mundo resultando numa pandemia. A proposta deste exercício é utilizar uma API com informações de COVID-19 do mundo todo desde o início da proliferação e descobrir que dia o Brasil confirmou o primeiro caso de Coronavírus.\n",
    "\n",
    "Para fazer isso, utilize a URL \"https://api.covid19api.com/country/brazil\" em seu código. Ela retorna uma lista de dicionários, onde cada dicionário traz informações através das chaves:\n",
    "\n",
    "\"ID\", \"Country\", \"CountryCode\", \"Province\", \"City\", \"CityCode\", \"Lat\", \"Lon\", \"Confirmed\", \"Deaths\", Recovered\", \"Active\" e \"Date\".\n",
    "\n",
    "Utilize essas informações e retorne a data em que o Brasil confirmou o primeiro caso de COVID."
   ]
  },
  {
   "cell_type": "code",
   "execution_count": null,
   "metadata": {},
   "outputs": [],
   "source": []
  }
 ],
 "metadata": {
  "kernelspec": {
   "display_name": "Python 3.10.7 64-bit",
   "language": "python",
   "name": "python3"
  },
  "language_info": {
   "codemirror_mode": {
    "name": "ipython",
    "version": 3
   },
   "file_extension": ".py",
   "mimetype": "text/x-python",
   "name": "python",
   "nbconvert_exporter": "python",
   "pygments_lexer": "ipython3",
   "version": "3.10.7"
  },
  "orig_nbformat": 4,
  "vscode": {
   "interpreter": {
    "hash": "f74913a52227c539edf3889f892f189c7a6a2ca39977e0509f17f7a36c2bbf24"
   }
  }
 },
 "nbformat": 4,
 "nbformat_minor": 2
}
